{
 "cells": [
  {
   "cell_type": "code",
   "execution_count": 141,
   "id": "18fc3b2e-10bd-45c1-83a1-21c343a45212",
   "metadata": {},
   "outputs": [],
   "source": [
    "import random as rd\n",
    "import pandas as pd \n",
    "import numpy as np\n",
    "import matplotlib.pyplot as plt"
   ]
  },
  {
   "cell_type": "code",
   "execution_count": 142,
   "id": "c1e91068-f3e7-46e5-875c-bc9e3abf16fe",
   "metadata": {},
   "outputs": [],
   "source": [
    "df = pd.read_csv(\"Ice Cream Sales - temperatures.csv\")"
   ]
  },
  {
   "cell_type": "code",
   "execution_count": 143,
   "id": "4067e38c-8745-410d-a269-7fd372b70672",
   "metadata": {},
   "outputs": [
    {
     "data": {
      "text/html": [
       "<div>\n",
       "<style scoped>\n",
       "    .dataframe tbody tr th:only-of-type {\n",
       "        vertical-align: middle;\n",
       "    }\n",
       "\n",
       "    .dataframe tbody tr th {\n",
       "        vertical-align: top;\n",
       "    }\n",
       "\n",
       "    .dataframe thead th {\n",
       "        text-align: right;\n",
       "    }\n",
       "</style>\n",
       "<table border=\"1\" class=\"dataframe\">\n",
       "  <thead>\n",
       "    <tr style=\"text-align: right;\">\n",
       "      <th></th>\n",
       "      <th>Temperature</th>\n",
       "      <th>Ice Cream Profits</th>\n",
       "    </tr>\n",
       "  </thead>\n",
       "  <tbody>\n",
       "    <tr>\n",
       "      <th>0</th>\n",
       "      <td>39</td>\n",
       "      <td>13.17</td>\n",
       "    </tr>\n",
       "    <tr>\n",
       "      <th>1</th>\n",
       "      <td>40</td>\n",
       "      <td>11.88</td>\n",
       "    </tr>\n",
       "    <tr>\n",
       "      <th>2</th>\n",
       "      <td>41</td>\n",
       "      <td>18.82</td>\n",
       "    </tr>\n",
       "    <tr>\n",
       "      <th>3</th>\n",
       "      <td>42</td>\n",
       "      <td>18.65</td>\n",
       "    </tr>\n",
       "    <tr>\n",
       "      <th>4</th>\n",
       "      <td>43</td>\n",
       "      <td>17.02</td>\n",
       "    </tr>\n",
       "    <tr>\n",
       "      <th>...</th>\n",
       "      <td>...</td>\n",
       "      <td>...</td>\n",
       "    </tr>\n",
       "    <tr>\n",
       "      <th>360</th>\n",
       "      <td>99</td>\n",
       "      <td>85.13</td>\n",
       "    </tr>\n",
       "    <tr>\n",
       "      <th>361</th>\n",
       "      <td>99</td>\n",
       "      <td>87.08</td>\n",
       "    </tr>\n",
       "    <tr>\n",
       "      <th>362</th>\n",
       "      <td>99</td>\n",
       "      <td>89.29</td>\n",
       "    </tr>\n",
       "    <tr>\n",
       "      <th>363</th>\n",
       "      <td>101</td>\n",
       "      <td>81.91</td>\n",
       "    </tr>\n",
       "    <tr>\n",
       "      <th>364</th>\n",
       "      <td>101</td>\n",
       "      <td>85.02</td>\n",
       "    </tr>\n",
       "  </tbody>\n",
       "</table>\n",
       "<p>365 rows × 2 columns</p>\n",
       "</div>"
      ],
      "text/plain": [
       "     Temperature  Ice Cream Profits\n",
       "0             39              13.17\n",
       "1             40              11.88\n",
       "2             41              18.82\n",
       "3             42              18.65\n",
       "4             43              17.02\n",
       "..           ...                ...\n",
       "360           99              85.13\n",
       "361           99              87.08\n",
       "362           99              89.29\n",
       "363          101              81.91\n",
       "364          101              85.02\n",
       "\n",
       "[365 rows x 2 columns]"
      ]
     },
     "execution_count": 143,
     "metadata": {},
     "output_type": "execute_result"
    }
   ],
   "source": [
    "df"
   ]
  },
  {
   "cell_type": "code",
   "execution_count": 144,
   "id": "c96b2337-3301-4cdc-b268-1748f3649707",
   "metadata": {},
   "outputs": [],
   "source": [
    "X_train = df[[\"Temperature\"]]"
   ]
  },
  {
   "cell_type": "code",
   "execution_count": 145,
   "id": "ef6b1db4-e90e-4ffa-b415-8d7ee8b8008f",
   "metadata": {},
   "outputs": [
    {
     "data": {
      "text/html": [
       "<div>\n",
       "<style scoped>\n",
       "    .dataframe tbody tr th:only-of-type {\n",
       "        vertical-align: middle;\n",
       "    }\n",
       "\n",
       "    .dataframe tbody tr th {\n",
       "        vertical-align: top;\n",
       "    }\n",
       "\n",
       "    .dataframe thead th {\n",
       "        text-align: right;\n",
       "    }\n",
       "</style>\n",
       "<table border=\"1\" class=\"dataframe\">\n",
       "  <thead>\n",
       "    <tr style=\"text-align: right;\">\n",
       "      <th></th>\n",
       "      <th>Temperature</th>\n",
       "    </tr>\n",
       "  </thead>\n",
       "  <tbody>\n",
       "    <tr>\n",
       "      <th>0</th>\n",
       "      <td>39</td>\n",
       "    </tr>\n",
       "    <tr>\n",
       "      <th>1</th>\n",
       "      <td>40</td>\n",
       "    </tr>\n",
       "    <tr>\n",
       "      <th>2</th>\n",
       "      <td>41</td>\n",
       "    </tr>\n",
       "    <tr>\n",
       "      <th>3</th>\n",
       "      <td>42</td>\n",
       "    </tr>\n",
       "    <tr>\n",
       "      <th>4</th>\n",
       "      <td>43</td>\n",
       "    </tr>\n",
       "    <tr>\n",
       "      <th>...</th>\n",
       "      <td>...</td>\n",
       "    </tr>\n",
       "    <tr>\n",
       "      <th>360</th>\n",
       "      <td>99</td>\n",
       "    </tr>\n",
       "    <tr>\n",
       "      <th>361</th>\n",
       "      <td>99</td>\n",
       "    </tr>\n",
       "    <tr>\n",
       "      <th>362</th>\n",
       "      <td>99</td>\n",
       "    </tr>\n",
       "    <tr>\n",
       "      <th>363</th>\n",
       "      <td>101</td>\n",
       "    </tr>\n",
       "    <tr>\n",
       "      <th>364</th>\n",
       "      <td>101</td>\n",
       "    </tr>\n",
       "  </tbody>\n",
       "</table>\n",
       "<p>365 rows × 1 columns</p>\n",
       "</div>"
      ],
      "text/plain": [
       "     Temperature\n",
       "0             39\n",
       "1             40\n",
       "2             41\n",
       "3             42\n",
       "4             43\n",
       "..           ...\n",
       "360           99\n",
       "361           99\n",
       "362           99\n",
       "363          101\n",
       "364          101\n",
       "\n",
       "[365 rows x 1 columns]"
      ]
     },
     "execution_count": 145,
     "metadata": {},
     "output_type": "execute_result"
    }
   ],
   "source": [
    "X_train"
   ]
  },
  {
   "cell_type": "code",
   "execution_count": 146,
   "id": "dff0ee32-e14e-4431-942a-28af7da19608",
   "metadata": {},
   "outputs": [],
   "source": [
    "y_train = df[\"Ice Cream Profits\"]"
   ]
  },
  {
   "cell_type": "code",
   "execution_count": 147,
   "id": "3e7f7514-b521-45d6-b3d9-12c2cd89e0af",
   "metadata": {},
   "outputs": [
    {
     "data": {
      "text/plain": [
       "0      13.17\n",
       "1      11.88\n",
       "2      18.82\n",
       "3      18.65\n",
       "4      17.02\n",
       "       ...  \n",
       "360    85.13\n",
       "361    87.08\n",
       "362    89.29\n",
       "363    81.91\n",
       "364    85.02\n",
       "Name: Ice Cream Profits, Length: 365, dtype: float64"
      ]
     },
     "execution_count": 147,
     "metadata": {},
     "output_type": "execute_result"
    }
   ],
   "source": [
    "y_train"
   ]
  },
  {
   "cell_type": "code",
   "execution_count": 148,
   "id": "647232e6-8afb-4a27-808d-f1471ad5575b",
   "metadata": {},
   "outputs": [
    {
     "data": {
      "text/plain": [
       "pandas.core.series.Series"
      ]
     },
     "execution_count": 148,
     "metadata": {},
     "output_type": "execute_result"
    }
   ],
   "source": [
    "type(y_train)"
   ]
  },
  {
   "cell_type": "code",
   "execution_count": 149,
   "id": "50758307-7aae-41a3-af5c-e746b6749cdd",
   "metadata": {},
   "outputs": [
    {
     "data": {
      "text/plain": [
       "pandas.core.frame.DataFrame"
      ]
     },
     "execution_count": 149,
     "metadata": {},
     "output_type": "execute_result"
    }
   ],
   "source": [
    "type(X_train)"
   ]
  },
  {
   "cell_type": "code",
   "execution_count": 150,
   "id": "76dc5dd2-f8d1-4764-9329-327bb816e81d",
   "metadata": {},
   "outputs": [],
   "source": [
    "w_init = pd.Series(rd.random() for _ in range(1))"
   ]
  },
  {
   "cell_type": "code",
   "execution_count": 151,
   "id": "af856fee-7e5a-42b5-a585-220b7efa1be3",
   "metadata": {},
   "outputs": [
    {
     "data": {
      "text/plain": [
       "0    0.363201\n",
       "dtype: float64"
      ]
     },
     "execution_count": 151,
     "metadata": {},
     "output_type": "execute_result"
    }
   ],
   "source": [
    "w_init"
   ]
  },
  {
   "cell_type": "code",
   "execution_count": 152,
   "id": "1feca574-0caf-4089-8cd1-d3b8f4b52bed",
   "metadata": {},
   "outputs": [],
   "source": [
    "b_init = 0"
   ]
  },
  {
   "cell_type": "code",
   "execution_count": 153,
   "id": "15bc642b-fd65-467d-8c9d-786c4fa9e958",
   "metadata": {},
   "outputs": [
    {
     "data": {
      "text/plain": [
       "(1,)"
      ]
     },
     "execution_count": 153,
     "metadata": {},
     "output_type": "execute_result"
    }
   ],
   "source": [
    "w_init.shape"
   ]
  },
  {
   "cell_type": "code",
   "execution_count": 154,
   "id": "37f34c31-b5ed-475f-9924-b657998e28ef",
   "metadata": {},
   "outputs": [
    {
     "data": {
      "text/plain": [
       "(365, 1)"
      ]
     },
     "execution_count": 154,
     "metadata": {},
     "output_type": "execute_result"
    }
   ],
   "source": [
    "X_train.shape"
   ]
  },
  {
   "cell_type": "code",
   "execution_count": 155,
   "id": "996bb0d2-5a99-4723-a388-83b96f386306",
   "metadata": {},
   "outputs": [
    {
     "data": {
      "text/plain": [
       "(365,)"
      ]
     },
     "execution_count": 155,
     "metadata": {},
     "output_type": "execute_result"
    }
   ],
   "source": [
    "y_train.shape"
   ]
  },
  {
   "cell_type": "markdown",
   "id": "28bbfab7-e76a-4cd2-baf2-e20845f808d5",
   "metadata": {},
   "source": [
    "### Tahmin Yapma"
   ]
  },
  {
   "cell_type": "code",
   "execution_count": 156,
   "id": "b678fc7e-99c9-4a26-971d-89a7d83a0955",
   "metadata": {},
   "outputs": [],
   "source": [
    "def predict(x, w, b):\n",
    "    return np.dot(x, w) + b\n"
   ]
  },
  {
   "cell_type": "code",
   "execution_count": 157,
   "id": "83a62420-def4-4b0e-8d66-e5c3fbcb214b",
   "metadata": {},
   "outputs": [
    {
     "data": {
      "text/plain": [
       "14.1648401898583"
      ]
     },
     "execution_count": 157,
     "metadata": {},
     "output_type": "execute_result"
    }
   ],
   "source": [
    "predict(X_train.iloc[0], w_init, b_init)"
   ]
  },
  {
   "cell_type": "code",
   "execution_count": 158,
   "id": "a596047a-6c1e-44a9-b979-fa91d2a465da",
   "metadata": {},
   "outputs": [],
   "source": [
    "def compute_cost(X_train, y_train, w, b):\n",
    "    cost = 0\n",
    "    m = X_train.shape[0]\n",
    "    for i in range(m):\n",
    "       cost+= (predict(X_train.iloc[i], w, b) - y_train.iloc[i]) ** 2\n",
    "    return cost / (2 * m)\n",
    "    "
   ]
  },
  {
   "cell_type": "code",
   "execution_count": 159,
   "id": "6b584de5-154f-40ac-83b8-049247493002",
   "metadata": {},
   "outputs": [
    {
     "data": {
      "text/plain": [
       "400.1033032688624"
      ]
     },
     "execution_count": 159,
     "metadata": {},
     "output_type": "execute_result"
    }
   ],
   "source": [
    "compute_cost(X_train, y_train, w_init, b_init)"
   ]
  },
  {
   "cell_type": "code",
   "execution_count": 180,
   "id": "3519941d-d9d3-4424-9696-87a7475c3a79",
   "metadata": {},
   "outputs": [],
   "source": [
    "def compute_gradient(X_train, y_train, w, b):\n",
    "    weight = 0\n",
    "    bias = 0\n",
    "    m = X_train.shape[0]\n",
    "    for i in range(m):\n",
    "        weight += (predict(X_train.iloc[i], w, b) - y_train.iloc[i]) * X_train.iloc[i]\n",
    "        bias +=  (predict(X_train.iloc[i], w, b) - y_train.iloc[i])\n",
    "\n",
    "    w_gradient = weight.values/m\n",
    "    b_gradient = bias/m\n",
    "    return w_gradient , b_gradient"
   ]
  },
  {
   "cell_type": "code",
   "execution_count": 181,
   "id": "76c9cada-e60e-474e-b4db-3952a6f9cc84",
   "metadata": {},
   "outputs": [],
   "source": [
    "l_rate = 0.01\n",
    "num_iter = 100"
   ]
  },
  {
   "cell_type": "code",
   "execution_count": 184,
   "id": "9b8530ab-d88e-439c-a3b1-0fc00e773043",
   "metadata": {},
   "outputs": [],
   "source": [
    "def gradient_descent (X_train, y_train, w, b, l_rate, num_iter, compute_cost, compute_gradient):\n",
    "    w_last = w\n",
    "    b_last = b\n",
    "\n",
    "    j_w_list = []\n",
    "    w_list = []\n",
    "\n",
    "    for i in range(num_iter):\n",
    "\n",
    "        w_gradient , b_gradient = compute_gradient(X_train, y_train, w_init, b_init)\n",
    "\n",
    "        step_amount_w = w_gradient * l_rate\n",
    "        step_amount_b = b_gradient * l_rate\n",
    "\n",
    "        w_last = w_last - step_amount_w\n",
    "        b_last = b_last - step_amount_b\n",
    "\n",
    "        j_w_list.append(compute_cost(X_train, y_train, w_last, b_last))\n",
    "        w_list.append(w_last)\n",
    "\n",
    "        print(\"Iteration:\", i+1, \"w value:\", w_last, \"b value:\", b_last, \"Cost value:\", compute_cost(X_train, y_train, w_last, b_last))\n",
    "\n",
    "    return j_w_list, w_list\n",
    "                        "
   ]
  },
  {
   "cell_type": "code",
   "execution_count": 185,
   "id": "8e8636c6-e9d5-4558-a01d-8a38d087395d",
   "metadata": {},
   "outputs": [
    {
     "name": "stdout",
     "output_type": "stream",
     "text": [
      "Iteration: 1 w value: 0    20.502454\n",
      "dtype: float64 b value: 0.2596010774090992 Cost value: 1046490.0393902303\n",
      "Iteration: 2 w value: 0    40.641707\n",
      "dtype: float64 b value: 0.5192021548181984 Cost value: 4265891.2275722\n",
      "Iteration: 3 w value: 0    60.78096\n",
      "dtype: float64 b value: 0.7788032322272976 Cost value: 9658603.667849185\n",
      "Iteration: 4 w value: 0    80.920213\n",
      "dtype: float64 b value: 1.0384043096363968 Cost value: 17224627.36022115\n",
      "Iteration: 5 w value: 0    101.059465\n",
      "dtype: float64 b value: 1.298005387045496 Cost value: 26963962.30468817\n",
      "Iteration: 6 w value: 0    121.198718\n",
      "dtype: float64 b value: 1.557606464454595 Cost value: 38876608.501250155\n",
      "Iteration: 7 w value: 0    141.337971\n",
      "dtype: float64 b value: 1.8172075418636942 Cost value: 52962565.94990722\n",
      "Iteration: 8 w value: 0    161.477224\n",
      "dtype: float64 b value: 2.0768086192727933 Cost value: 69221834.6506592\n",
      "Iteration: 9 w value: 0    181.616477\n",
      "dtype: float64 b value: 2.3364096966818924 Cost value: 87654414.60350615\n",
      "Iteration: 10 w value: 0    201.75573\n",
      "dtype: float64 b value: 2.5960107740909915 Cost value: 108260305.80844837\n",
      "Iteration: 11 w value: 0    221.894983\n",
      "dtype: float64 b value: 2.8556118515000906 Cost value: 131039508.2654853\n",
      "Iteration: 12 w value: 0    242.034236\n",
      "dtype: float64 b value: 3.1152129289091897 Cost value: 155992021.9746174\n",
      "Iteration: 13 w value: 0    262.173489\n",
      "dtype: float64 b value: 3.3748140063182888 Cost value: 183117846.9358446\n",
      "Iteration: 14 w value: 0    282.312741\n",
      "dtype: float64 b value: 3.634415083727388 Cost value: 212416983.1491665\n",
      "Iteration: 15 w value: 0    302.451994\n",
      "dtype: float64 b value: 3.894016161136487 Cost value: 243889430.61458367\n",
      "Iteration: 16 w value: 0    322.591247\n",
      "dtype: float64 b value: 4.1536172385455865 Cost value: 277535189.33209574\n",
      "Iteration: 17 w value: 0    342.7305\n",
      "dtype: float64 b value: 4.413218315954686 Cost value: 313354259.3017031\n",
      "Iteration: 18 w value: 0    362.869753\n",
      "dtype: float64 b value: 4.672819393363786 Cost value: 351346640.52340496\n",
      "Iteration: 19 w value: 0    383.009006\n",
      "dtype: float64 b value: 4.932420470772885 Cost value: 391512332.997202\n",
      "Iteration: 20 w value: 0    403.148259\n",
      "dtype: float64 b value: 5.192021548181985 Cost value: 433851336.72309405\n",
      "Iteration: 21 w value: 0    423.287512\n",
      "dtype: float64 b value: 5.451622625591084 Cost value: 478363651.7010814\n",
      "Iteration: 22 w value: 0    443.426765\n",
      "dtype: float64 b value: 5.711223703000184 Cost value: 525049277.9311635\n",
      "Iteration: 23 w value: 0    463.566017\n",
      "dtype: float64 b value: 5.970824780409283 Cost value: 573908215.4133408\n",
      "Iteration: 24 w value: 0    483.70527\n",
      "dtype: float64 b value: 6.230425857818383 Cost value: 624940464.1476128\n",
      "Iteration: 25 w value: 0    503.844523\n",
      "dtype: float64 b value: 6.490026935227482 Cost value: 678146024.1339802\n",
      "Iteration: 26 w value: 0    523.983776\n",
      "dtype: float64 b value: 6.749628012636582 Cost value: 733524895.3724424\n",
      "Iteration: 27 w value: 0    544.123029\n",
      "dtype: float64 b value: 7.0092290900456815 Cost value: 791077077.8629992\n",
      "Iteration: 28 w value: 0    564.262282\n",
      "dtype: float64 b value: 7.268830167454781 Cost value: 850802571.6056519\n",
      "Iteration: 29 w value: 0    584.401535\n",
      "dtype: float64 b value: 7.528431244863881 Cost value: 912701376.6003988\n",
      "Iteration: 30 w value: 0    604.540788\n",
      "dtype: float64 b value: 7.78803232227298 Cost value: 976773492.847241\n",
      "Iteration: 31 w value: 0    624.680041\n",
      "dtype: float64 b value: 8.047633399682079 Cost value: 1043018920.3461792\n",
      "Iteration: 32 w value: 0    644.819293\n",
      "dtype: float64 b value: 8.307234477091178 Cost value: 1111437659.0972102\n",
      "Iteration: 33 w value: 0    664.958546\n",
      "dtype: float64 b value: 8.566835554500278 Cost value: 1182029709.1003385\n",
      "Iteration: 34 w value: 0    685.097799\n",
      "dtype: float64 b value: 8.826436631909377 Cost value: 1254795070.3555603\n",
      "Iteration: 35 w value: 0    705.237052\n",
      "dtype: float64 b value: 9.086037709318477 Cost value: 1329733742.8628783\n",
      "Iteration: 36 w value: 0    725.376305\n",
      "dtype: float64 b value: 9.345638786727577 Cost value: 1406845726.6222897\n",
      "Iteration: 37 w value: 0    745.515558\n",
      "dtype: float64 b value: 9.605239864136676 Cost value: 1486131021.6337965\n",
      "Iteration: 38 w value: 0    765.654811\n",
      "dtype: float64 b value: 9.864840941545776 Cost value: 1567589627.897398\n",
      "Iteration: 39 w value: 0    785.794064\n",
      "dtype: float64 b value: 10.124442018954875 Cost value: 1651221545.413097\n",
      "Iteration: 40 w value: 0    805.933317\n",
      "dtype: float64 b value: 10.384043096363975 Cost value: 1737026774.1808894\n",
      "Iteration: 41 w value: 0    826.072569\n",
      "dtype: float64 b value: 10.643644173773074 Cost value: 1825005314.2007759\n",
      "Iteration: 42 w value: 0    846.211822\n",
      "dtype: float64 b value: 10.903245251182174 Cost value: 1915157165.4727612\n",
      "Iteration: 43 w value: 0    866.351075\n",
      "dtype: float64 b value: 11.162846328591273 Cost value: 2007482327.9968352\n",
      "Iteration: 44 w value: 0    886.490328\n",
      "dtype: float64 b value: 11.422447406000373 Cost value: 2101980801.7730098\n",
      "Iteration: 45 w value: 0    906.629581\n",
      "dtype: float64 b value: 11.682048483409472 Cost value: 2198652586.8012753\n",
      "Iteration: 46 w value: 0    926.768834\n",
      "dtype: float64 b value: 11.941649560818572 Cost value: 2297497683.081639\n",
      "Iteration: 47 w value: 0    946.908087\n",
      "dtype: float64 b value: 12.201250638227672 Cost value: 2398516090.6140966\n",
      "Iteration: 48 w value: 0    967.04734\n",
      "dtype: float64 b value: 12.460851715636771 Cost value: 2501707809.3986487\n",
      "Iteration: 49 w value: 0    987.186593\n",
      "dtype: float64 b value: 12.72045279304587 Cost value: 2607072839.4352956\n",
      "Iteration: 50 w value: 0    1007.325845\n",
      "dtype: float64 b value: 12.98005387045497 Cost value: 2714611180.724039\n",
      "Iteration: 51 w value: 0    1027.465098\n",
      "dtype: float64 b value: 13.23965494786407 Cost value: 2824322833.2648735\n",
      "Iteration: 52 w value: 0    1047.604351\n",
      "dtype: float64 b value: 13.49925602527317 Cost value: 2936207797.0578074\n",
      "Iteration: 53 w value: 0    1067.743604\n",
      "dtype: float64 b value: 13.758857102682269 Cost value: 3050266072.1028347\n",
      "Iteration: 54 w value: 0    1087.882857\n",
      "dtype: float64 b value: 14.018458180091368 Cost value: 3166497658.39996\n",
      "Iteration: 55 w value: 0    1108.02211\n",
      "dtype: float64 b value: 14.278059257500468 Cost value: 3284902555.949176\n",
      "Iteration: 56 w value: 0    1128.161363\n",
      "dtype: float64 b value: 14.537660334909567 Cost value: 3405480764.750487\n",
      "Iteration: 57 w value: 0    1148.300616\n",
      "dtype: float64 b value: 14.797261412318667 Cost value: 3528232284.8038964\n",
      "Iteration: 58 w value: 0    1168.439869\n",
      "dtype: float64 b value: 15.056862489727767 Cost value: 3653157116.1093965\n",
      "Iteration: 59 w value: 0    1188.579121\n",
      "dtype: float64 b value: 15.316463567136866 Cost value: 3780255258.666995\n",
      "Iteration: 60 w value: 0    1208.718374\n",
      "dtype: float64 b value: 15.576064644545966 Cost value: 3909526712.4766855\n",
      "Iteration: 61 w value: 0    1228.857627\n",
      "dtype: float64 b value: 15.835665721955065 Cost value: 4040971477.5384746\n",
      "Iteration: 62 w value: 0    1248.99688\n",
      "dtype: float64 b value: 16.095266799364165 Cost value: 4174589553.8523564\n",
      "Iteration: 63 w value: 0    1269.136133\n",
      "dtype: float64 b value: 16.354867876773262 Cost value: 4310380941.418334\n",
      "Iteration: 64 w value: 0    1289.275386\n",
      "dtype: float64 b value: 16.61446895418236 Cost value: 4448345640.236411\n",
      "Iteration: 65 w value: 0    1309.414639\n",
      "dtype: float64 b value: 16.874070031591458 Cost value: 4588483650.306579\n",
      "Iteration: 66 w value: 0    1329.553892\n",
      "dtype: float64 b value: 17.133671109000556 Cost value: 4730794971.628835\n",
      "Iteration: 67 w value: 0    1349.693145\n",
      "dtype: float64 b value: 17.393272186409654 Cost value: 4875279604.2031975\n",
      "Iteration: 68 w value: 0    1369.832397\n",
      "dtype: float64 b value: 17.65287326381875 Cost value: 5021937548.029653\n",
      "Iteration: 69 w value: 0    1389.97165\n",
      "dtype: float64 b value: 17.91247434122785 Cost value: 5170768803.108194\n",
      "Iteration: 70 w value: 0    1410.110903\n",
      "dtype: float64 b value: 18.172075418636947 Cost value: 5321773369.438843\n",
      "Iteration: 71 w value: 0    1430.250156\n",
      "dtype: float64 b value: 18.431676496046045 Cost value: 5474951247.021578\n",
      "Iteration: 72 w value: 0    1450.389409\n",
      "dtype: float64 b value: 18.691277573455142 Cost value: 5630302435.856411\n",
      "Iteration: 73 w value: 0    1470.528662\n",
      "dtype: float64 b value: 18.95087865086424 Cost value: 5787826935.943338\n",
      "Iteration: 74 w value: 0    1490.667915\n",
      "dtype: float64 b value: 19.210479728273338 Cost value: 5947524747.282361\n",
      "Iteration: 75 w value: 0    1510.807168\n",
      "dtype: float64 b value: 19.470080805682436 Cost value: 6109395869.873478\n",
      "Iteration: 76 w value: 0    1530.946421\n",
      "dtype: float64 b value: 19.729681883091533 Cost value: 6273440303.716684\n",
      "Iteration: 77 w value: 0    1551.085673\n",
      "dtype: float64 b value: 19.98928296050063 Cost value: 6439658048.811998\n",
      "Iteration: 78 w value: 0    1571.224926\n",
      "dtype: float64 b value: 20.24888403790973 Cost value: 6608049105.159403\n",
      "Iteration: 79 w value: 0    1591.364179\n",
      "dtype: float64 b value: 20.508485115318827 Cost value: 6778613472.7589\n",
      "Iteration: 80 w value: 0    1611.503432\n",
      "dtype: float64 b value: 20.768086192727925 Cost value: 6951351151.610489\n",
      "Iteration: 81 w value: 0    1631.642685\n",
      "dtype: float64 b value: 21.027687270137022 Cost value: 7126262141.714177\n",
      "Iteration: 82 w value: 0    1651.781938\n",
      "dtype: float64 b value: 21.28728834754612 Cost value: 7303346443.069964\n",
      "Iteration: 83 w value: 0    1671.921191\n",
      "dtype: float64 b value: 21.546889424955218 Cost value: 7482604055.677847\n",
      "Iteration: 84 w value: 0    1692.060444\n",
      "dtype: float64 b value: 21.806490502364316 Cost value: 7664034979.537809\n",
      "Iteration: 85 w value: 0    1712.199697\n",
      "dtype: float64 b value: 22.066091579773413 Cost value: 7847639214.649883\n",
      "Iteration: 86 w value: 0    1732.338949\n",
      "dtype: float64 b value: 22.32569265718251 Cost value: 8033416761.014045\n",
      "Iteration: 87 w value: 0    1752.478202\n",
      "dtype: float64 b value: 22.58529373459161 Cost value: 8221367618.6303005\n",
      "Iteration: 88 w value: 0    1772.617455\n",
      "dtype: float64 b value: 22.844894812000707 Cost value: 8411491787.498652\n",
      "Iteration: 89 w value: 0    1792.756708\n",
      "dtype: float64 b value: 23.104495889409804 Cost value: 8603789267.61911\n",
      "Iteration: 90 w value: 0    1812.895961\n",
      "dtype: float64 b value: 23.364096966818902 Cost value: 8798260058.99164\n",
      "Iteration: 91 w value: 0    1833.035214\n",
      "dtype: float64 b value: 23.623698044228 Cost value: 8994904161.616282\n",
      "Iteration: 92 w value: 0    1853.174467\n",
      "dtype: float64 b value: 23.883299121637098 Cost value: 9193721575.49302\n",
      "Iteration: 93 w value: 0    1873.31372\n",
      "dtype: float64 b value: 24.142900199046196 Cost value: 9394712300.62185\n",
      "Iteration: 94 w value: 0    1893.452973\n",
      "dtype: float64 b value: 24.402501276455293 Cost value: 9597876337.002766\n",
      "Iteration: 95 w value: 0    1913.592225\n",
      "dtype: float64 b value: 24.66210235386439 Cost value: 9803213684.63579\n",
      "Iteration: 96 w value: 0    1933.731478\n",
      "dtype: float64 b value: 24.92170343127349 Cost value: 10010724343.5209\n",
      "Iteration: 97 w value: 0    1953.870731\n",
      "dtype: float64 b value: 25.181304508682587 Cost value: 10220408313.6581\n",
      "Iteration: 98 w value: 0    1974.009984\n",
      "dtype: float64 b value: 25.440905586091684 Cost value: 10432265595.04741\n",
      "Iteration: 99 w value: 0    1994.149237\n",
      "dtype: float64 b value: 25.700506663500782 Cost value: 10646296187.688805\n",
      "Iteration: 100 w value: 0    2014.28849\n",
      "dtype: float64 b value: 25.96010774090988 Cost value: 10862500091.582306\n"
     ]
    }
   ],
   "source": [
    "j_w_list , w_list = gradient_descent (X_train, y_train, w_init, b_init, l_rate, num_iter, compute_cost, compute_gradient)"
   ]
  },
  {
   "cell_type": "code",
   "execution_count": 186,
   "id": "031b9ebb-87b5-4c37-8110-a6db18b8465f",
   "metadata": {},
   "outputs": [
    {
     "data": {
      "image/png": "[encoded data removed]",
      "text/plain": [
       "<Figure size 640x480 with 1 Axes>"
      ]
     },
     "metadata": {},
     "output_type": "display_data"
    }
   ],
   "source": [
    "plt.plot(range(1,num_iter + 1), w_list , color=\"blue\")\n",
    "plt.xlabel('Temperature')\n",
    "plt.ylabel('Profit')\n",
    "plt.title('Cost vs Iterations')\n",
    "plt.show()"
   ]
  },
  {
   "cell_type": "code",
   "execution_count": null,
   "id": "e8aab13c-4571-40f9-9df2-d1719970c450",
   "metadata": {},
   "outputs": [],
   "source": []
  }
 ],
 "metadata": {
  "kernelspec": {
   "display_name": "Python 3 (ipykernel)",
   "language": "python",
   "name": "python3"
  },
  "language_info": {
   "codemirror_mode": {
    "name": "ipython",
    "version": 3
   },
   "file_extension": ".py",
   "mimetype": "text/x-python",
   "name": "python",
   "nbconvert_exporter": "python",
   "pygments_lexer": "ipython3",
   "version": "3.11.7"
  }
 },
 "nbformat": 4,
 "nbformat_minor": 5
}
